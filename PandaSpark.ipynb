{
 "cells": [
  {
   "cell_type": "code",
   "execution_count": 1,
   "id": "602172c0-dbdf-45f3-b349-c2dd4c78a815",
   "metadata": {},
   "outputs": [],
   "source": [
    "import os\n",
    "os.environ['SPARK_HOME'] = \"C:/spark\"\n",
    "os.environ['PYSPARK_DRIVER_PYTHON'] = 'jupyter'\n",
    "os.environ['PYSPARK_DRIVER_PYTHON_OPTS'] = 'lab'\n",
    "os.environ['PYSPARK_PYTHON'] = 'python'"
   ]
  },
  {
   "cell_type": "code",
   "execution_count": 3,
   "id": "22b180cb-8c17-4bf5-9b3e-caf697e9085d",
   "metadata": {},
   "outputs": [
    {
     "name": "stdout",
     "output_type": "stream",
     "text": [
      "     Name  Age\n",
      "0  Divakr   50\n",
      "1   Jeeva   45\n",
      "2  Rhamar   54\n",
      "3  Harish   34\n"
     ]
    }
   ],
   "source": [
    "import pandas as pd    \n",
    "data = [['Divakr', 50], ['Jeeva', 45], ['Rhamar', 54],['Harish',34]] \n",
    "  \n",
    "pandasDF = pd.DataFrame(data, columns = ['Name', 'Age']) \n",
    "  \n",
    "print(pandasDF)"
   ]
  },
  {
   "cell_type": "code",
   "execution_count": 4,
   "id": "501d4ac0-ba65-4e86-acc7-cf152c88ee33",
   "metadata": {},
   "outputs": [
    {
     "data": {
      "text/html": [
       "\n",
       "            <div>\n",
       "                <p><b>SparkSession - in-memory</b></p>\n",
       "                \n",
       "        <div>\n",
       "            <p><b>SparkContext</b></p>\n",
       "\n",
       "            <p><a href=\"http://LAPTOP-TD17TFO6.mshome.net:4041\">Spark UI</a></p>\n",
       "\n",
       "            <dl>\n",
       "              <dt>Version</dt>\n",
       "                <dd><code>v3.5.3</code></dd>\n",
       "              <dt>Master</dt>\n",
       "                <dd><code>local[*]</code></dd>\n",
       "              <dt>AppName</dt>\n",
       "                <dd><code>pandaspark</code></dd>\n",
       "            </dl>\n",
       "        </div>\n",
       "        \n",
       "            </div>\n",
       "        "
      ],
      "text/plain": [
       "<pyspark.sql.session.SparkSession at 0x250cc40b890>"
      ]
     },
     "execution_count": 4,
     "metadata": {},
     "output_type": "execute_result"
    }
   ],
   "source": [
    "from pyspark.sql import SparkSession\n",
    "\n",
    "spark = SparkSession.builder \\\n",
    "    .appName(\"pandaspark\") \\\n",
    "    .getOrCreate()\n",
    "spark"
   ]
  },
  {
   "cell_type": "code",
   "execution_count": 5,
   "id": "b8892603-51b6-4128-9585-59e9046c83d9",
   "metadata": {},
   "outputs": [
    {
     "name": "stdout",
     "output_type": "stream",
     "text": [
      "root\n",
      " |-- Name: string (nullable = true)\n",
      " |-- Age: long (nullable = true)\n",
      "\n",
      "+------+---+\n",
      "|  Name|Age|\n",
      "+------+---+\n",
      "|Divakr| 50|\n",
      "| Jeeva| 45|\n",
      "|Rhamar| 54|\n",
      "|Harish| 34|\n",
      "+------+---+\n",
      "\n"
     ]
    }
   ],
   "source": [
    "df1=spark.createDataFrame(pandasDF)\n",
    "df1.printSchema()\n",
    "df1.show()"
   ]
  },
  {
   "cell_type": "code",
   "execution_count": 10,
   "id": "369e099b-01be-4632-8c16-16abe24e1e43",
   "metadata": {},
   "outputs": [],
   "source": [
    "from pyspark.sql.types import *\n",
    "\n",
    "mySchema = StructType([StructField(\"namme\",StringType(),True),StructField(\"agge\",IntegerType(),True)])"
   ]
  },
  {
   "cell_type": "code",
   "execution_count": 11,
   "id": "6da51539-9eaa-405b-91fb-c1ac23697f23",
   "metadata": {
    "scrolled": true
   },
   "outputs": [
    {
     "name": "stdout",
     "output_type": "stream",
     "text": [
      "root\n",
      " |-- namme: string (nullable = true)\n",
      " |-- agge: integer (nullable = true)\n",
      "\n",
      "+------+----+\n",
      "| namme|agge|\n",
      "+------+----+\n",
      "|Divakr|  50|\n",
      "| Jeeva|  45|\n",
      "|Rhamar|  54|\n",
      "|Harish|  34|\n",
      "+------+----+\n",
      "\n"
     ]
    }
   ],
   "source": [
    "spd2 = spark.createDataFrame(pandasDF,schema=mySchema)\n",
    "spd2.printSchema()\n",
    "spd2.show()"
   ]
  }
 ],
 "metadata": {
  "kernelspec": {
   "display_name": "Python 3 (ipykernel)",
   "language": "python",
   "name": "python3"
  },
  "language_info": {
   "codemirror_mode": {
    "name": "ipython",
    "version": 3
   },
   "file_extension": ".py",
   "mimetype": "text/x-python",
   "name": "python",
   "nbconvert_exporter": "python",
   "pygments_lexer": "ipython3",
   "version": "3.11.0"
  }
 },
 "nbformat": 4,
 "nbformat_minor": 5
}
