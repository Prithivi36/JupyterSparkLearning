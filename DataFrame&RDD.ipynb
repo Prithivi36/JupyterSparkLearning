{
 "cells": [
  {
   "cell_type": "code",
   "execution_count": 1,
   "id": "ed15372b-ff7c-4d52-890d-47081321b0c0",
   "metadata": {},
   "outputs": [],
   "source": [
    "import os\n",
    "os.environ['SPARK_HOME'] = \"C:/spark\"\n",
    "os.environ['PYSPARK_DRIVER_PYTHON'] = 'jupyter'\n",
    "os.environ['PYSPARK_DRIVER_PYTHON_OPTS'] = 'lab'\n",
    "os.environ['PYSPARK_PYTHON'] = 'python'"
   ]
  },
  {
   "cell_type": "code",
   "execution_count": 2,
   "id": "dd2f9857-140b-46fa-9296-baba180def52",
   "metadata": {},
   "outputs": [
    {
     "data": {
      "text/html": [
       "\n",
       "            <div>\n",
       "                <p><b>SparkSession - in-memory</b></p>\n",
       "                \n",
       "        <div>\n",
       "            <p><b>SparkContext</b></p>\n",
       "\n",
       "            <p><a href=\"http://LAPTOP-TD17TFO6.mshome.net:4040\">Spark UI</a></p>\n",
       "\n",
       "            <dl>\n",
       "              <dt>Version</dt>\n",
       "                <dd><code>v3.5.3</code></dd>\n",
       "              <dt>Master</dt>\n",
       "                <dd><code>local[*]</code></dd>\n",
       "              <dt>AppName</dt>\n",
       "                <dd><code>sparkkss</code></dd>\n",
       "            </dl>\n",
       "        </div>\n",
       "        \n",
       "            </div>\n",
       "        "
      ],
      "text/plain": [
       "<pyspark.sql.session.SparkSession at 0x1e27f4aaf50>"
      ]
     },
     "execution_count": 2,
     "metadata": {},
     "output_type": "execute_result"
    }
   ],
   "source": [
    "from pyspark.sql import SparkSession\n",
    "from pyspark.sql.functions import *\n",
    "\n",
    "spark = SparkSession.builder.appName(\"sparkkss\").getOrCreate()\n",
    "spark\n"
   ]
  },
  {
   "cell_type": "code",
   "execution_count": 11,
   "id": "0c8fc352-fc61-437f-9f28-29f86764fa68",
   "metadata": {},
   "outputs": [
    {
     "data": {
      "text/plain": [
       "[('and', 58),\n",
       " ('data', 27),\n",
       " ('processing', 19),\n",
       " ('such', 17),\n",
       " ('provides', 17),\n",
       " ('for', 16),\n",
       " ('as', 16),\n",
       " ('can', 16),\n",
       " ('various', 14),\n",
       " ('to', 11)]"
      ]
     },
     "execution_count": 11,
     "metadata": {},
     "output_type": "execute_result"
    }
   ],
   "source": [
    "rdd = spark.sparkContext.textFile(\"data.txt\")\n",
    "rddres=rdd.flatMap(lambda line : line.split(\" \")).map(lambda x : (x,1))\\\n",
    ".reduceByKey(lambda a, b : a+b).sortBy(lambda y : y[1],ascending=False)\n",
    "rddres.take(10)"
   ]
  },
  {
   "cell_type": "code",
   "execution_count": 13,
   "id": "6c8ea659-28fb-4952-a0e2-0df761c50530",
   "metadata": {},
   "outputs": [
    {
     "data": {
      "text/plain": [
       "[Row(word='and', count=58),\n",
       " Row(word='data', count=27),\n",
       " Row(word='processing', count=19),\n",
       " Row(word='such', count=17),\n",
       " Row(word='provides', count=17),\n",
       " Row(word='can', count=16),\n",
       " Row(word='for', count=16),\n",
       " Row(word='as', count=16),\n",
       " Row(word='various', count=14),\n",
       " Row(word='the', count=11)]"
      ]
     },
     "execution_count": 13,
     "metadata": {},
     "output_type": "execute_result"
    }
   ],
   "source": [
    "dataframeVar= spark.read.text(\"data.txt\")\n",
    "res=dataframeVar.selectExpr(\"explode(split(value,' ')) as word\")\\\n",
    "    .groupBy(\"word\").count().orderBy(desc(\"count\"))\n",
    "\n",
    "res.take(10)"
   ]
  }
 ],
 "metadata": {
  "kernelspec": {
   "display_name": "Python 3 (ipykernel)",
   "language": "python",
   "name": "python3"
  },
  "language_info": {
   "codemirror_mode": {
    "name": "ipython",
    "version": 3
   },
   "file_extension": ".py",
   "mimetype": "text/x-python",
   "name": "python",
   "nbconvert_exporter": "python",
   "pygments_lexer": "ipython3",
   "version": "3.11.0"
  }
 },
 "nbformat": 4,
 "nbformat_minor": 5
}
