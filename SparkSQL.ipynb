{
 "cells": [
  {
   "cell_type": "code",
   "execution_count": 2,
   "id": "f00f97c0-c2d0-46f3-bd10-b0e3914d60dd",
   "metadata": {},
   "outputs": [],
   "source": [
    "import os\n",
    "os.environ['SPARK_HOME'] = \"C:/spark\"\n",
    "os.environ['PYSPARK_DRIVER_PYTHON'] = 'jupyter'\n",
    "os.environ['PYSPARK_DRIVER_PYTHON_OPTS'] = 'lab'\n",
    "os.environ['PYSPARK_PYTHON'] = 'python'"
   ]
  },
  {
   "cell_type": "code",
   "execution_count": 16,
   "id": "8d4e8c6e-8b3b-45b7-a9b1-65c807536a8b",
   "metadata": {},
   "outputs": [
    {
     "data": {
      "text/html": [
       "\n",
       "            <div>\n",
       "                <p><b>SparkSession - in-memory</b></p>\n",
       "                \n",
       "        <div>\n",
       "            <p><b>SparkContext</b></p>\n",
       "\n",
       "            <p><a href=\"http://LAPTOP-TD17TFO6.mshome.net:4043\">Spark UI</a></p>\n",
       "\n",
       "            <dl>\n",
       "              <dt>Version</dt>\n",
       "                <dd><code>v3.5.3</code></dd>\n",
       "              <dt>Master</dt>\n",
       "                <dd><code>local[*]</code></dd>\n",
       "              <dt>AppName</dt>\n",
       "                <dd><code>sparkkss</code></dd>\n",
       "            </dl>\n",
       "        </div>\n",
       "        \n",
       "            </div>\n",
       "        "
      ],
      "text/plain": [
       "<pyspark.sql.session.SparkSession at 0x1dabbff0450>"
      ]
     },
     "execution_count": 16,
     "metadata": {},
     "output_type": "execute_result"
    }
   ],
   "source": [
    "from pyspark.sql import SparkSession\n",
    "from pyspark.sql.functions import *\n",
    "from pyspark.sql.window import *\n",
    "\n",
    "spark = SparkSession.builder.appName(\"sparkkss\").getOrCreate()\n",
    "spark\n"
   ]
  },
  {
   "cell_type": "code",
   "execution_count": 4,
   "id": "cb943abb-6324-4758-b068-b5f33266896f",
   "metadata": {},
   "outputs": [
    {
     "name": "stdout",
     "output_type": "stream",
     "text": [
      "+---+-------+\n",
      "| id|   name|\n",
      "+---+-------+\n",
      "|  1|   John|\n",
      "|  2|  Alice|\n",
      "|  3|    Bob|\n",
      "|  4|  Emily|\n",
      "|  5|  David|\n",
      "|  6|  Sarah|\n",
      "|  7|Michael|\n",
      "|  8|   Lisa|\n",
      "|  9|William|\n",
      "+---+-------+\n",
      "\n",
      "+----------+---+------+\n",
      "|department| id|salary|\n",
      "+----------+---+------+\n",
      "|        HR|  1| 60000|\n",
      "|        HR|  2| 55000|\n",
      "|        HR|  3| 58000|\n",
      "|        IT|  4| 70000|\n",
      "|        IT|  5| 72000|\n",
      "|        IT|  6| 68000|\n",
      "|     Sales|  7| 75000|\n",
      "|     Sales|  8| 78000|\n",
      "|     Sales|  9| 77000|\n",
      "+----------+---+------+\n",
      "\n"
     ]
    }
   ],
   "source": [
    "employee_data = [\n",
    "    (1, \"John\"), (2, \"Alice\"), (3, \"Bob\"), (4, \"Emily\"),\n",
    "    (5, \"David\"), (6, \"Sarah\"), (7, \"Michael\"), (8, \"Lisa\"),\n",
    "    (9, \"William\")\n",
    "]\n",
    "employees = spark.createDataFrame(employee_data, [\"id\", \"name\"])\n",
    "\n",
    "salary_data = [\n",
    "    (\"HR\", 1, 60000), (\"HR\", 2, 55000), (\"HR\", 3, 58000),\n",
    "    (\"IT\", 4, 70000), (\"IT\", 5, 72000), (\"IT\", 6, 68000),\n",
    "    (\"Sales\", 7, 75000), (\"Sales\", 8, 78000), (\"Sales\", 9, 77000)\n",
    "]\n",
    "salaries = spark.createDataFrame(salary_data, [\"department\", \"id\", \"salary\"])\n",
    "\n",
    "employees.show()\n",
    "\n",
    "salaries.show()"
   ]
  },
  {
   "cell_type": "code",
   "execution_count": 5,
   "id": "71d2c2c3-1889-4cce-a88d-69de32ddf87c",
   "metadata": {},
   "outputs": [],
   "source": [
    "employees.createOrReplaceTempView(\"employees\")\n",
    "salaries.createOrReplaceTempView(\"salaries\")"
   ]
  },
  {
   "cell_type": "code",
   "execution_count": 7,
   "id": "d6ab7d6e-4fad-4913-b767-64e66c813fab",
   "metadata": {},
   "outputs": [
    {
     "data": {
      "text/plain": [
       "True"
      ]
     },
     "execution_count": 7,
     "metadata": {},
     "output_type": "execute_result"
    }
   ],
   "source": [
    "view_exists = spark.catalog.tableExists(\"salaries\")\n",
    "view_exists"
   ]
  },
  {
   "cell_type": "code",
   "execution_count": 9,
   "id": "acd818df-d7af-4e6d-bf00-1249c3c9cc09",
   "metadata": {},
   "outputs": [
    {
     "name": "stdout",
     "output_type": "stream",
     "text": [
      "+---+-------+\n",
      "| id|   name|\n",
      "+---+-------+\n",
      "|  1|   John|\n",
      "|  2|  Alice|\n",
      "|  3|    Bob|\n",
      "|  4|  Emily|\n",
      "|  5|  David|\n",
      "|  6|  Sarah|\n",
      "|  7|Michael|\n",
      "|  8|   Lisa|\n",
      "|  9|William|\n",
      "+---+-------+\n",
      "\n"
     ]
    }
   ],
   "source": [
    "empQuery=spark.sql(\"Select * from employees\")\n",
    "empQuery.show()"
   ]
  },
  {
   "cell_type": "code",
   "execution_count": 12,
   "id": "d610f926-4467-45c7-b038-84b79590b6a0",
   "metadata": {},
   "outputs": [
    {
     "name": "stdout",
     "output_type": "stream",
     "text": [
      "+----------+------------------+\n",
      "|department|       avg(salary)|\n",
      "+----------+------------------+\n",
      "|        HR|57666.666666666664|\n",
      "|        IT|           70000.0|\n",
      "|     Sales| 76666.66666666667|\n",
      "+----------+------------------+\n",
      "\n"
     ]
    }
   ],
   "source": [
    "salQ= spark.sql(\"Select department,AVG(salary) from salaries Group By(department)\")\n",
    "salQ.show()"
   ]
  },
  {
   "cell_type": "code",
   "execution_count": 15,
   "id": "8708b4d6-71c3-4b4c-8eb8-5a90dad5ff3e",
   "metadata": {},
   "outputs": [
    {
     "name": "stdout",
     "output_type": "stream",
     "text": [
      "+-------+\n",
      "|   name|\n",
      "+-------+\n",
      "|  Emily|\n",
      "|  David|\n",
      "|Michael|\n",
      "|   Lisa|\n",
      "|William|\n",
      "+-------+\n",
      "\n"
     ]
    }
   ],
   "source": [
    "comb = spark.sql(\"SELECT name FROM employees WHERE id IN (SELECT id FROM salaries WHERE salary > (SELECT AVG(salary) FROM salaries))\")\n",
    "comb.show()"
   ]
  },
  {
   "cell_type": "code",
   "execution_count": 19,
   "id": "44afab14-f21f-427f-bdeb-76e28db09790",
   "metadata": {},
   "outputs": [
    {
     "name": "stdout",
     "output_type": "stream",
     "text": [
      "+----------+---+------+---+-------+\n",
      "|department| id|salary| id|   name|\n",
      "+----------+---+------+---+-------+\n",
      "|        HR|  1| 60000|  1|   John|\n",
      "|        HR|  2| 55000|  2|  Alice|\n",
      "|        HR|  3| 58000|  3|    Bob|\n",
      "|        IT|  4| 70000|  4|  Emily|\n",
      "|        IT|  5| 72000|  5|  David|\n",
      "|        IT|  6| 68000|  6|  Sarah|\n",
      "|     Sales|  7| 75000|  7|Michael|\n",
      "|     Sales|  8| 78000|  8|   Lisa|\n",
      "|     Sales|  9| 77000|  9|William|\n",
      "+----------+---+------+---+-------+\n",
      "\n",
      "+----------+---+------+---+-------+----+\n",
      "|department| id|salary| id|   name|rank|\n",
      "+----------+---+------+---+-------+----+\n",
      "|        HR|  1| 60000|  1|   John|   1|\n",
      "|        HR|  3| 58000|  3|    Bob|   2|\n",
      "|        HR|  2| 55000|  2|  Alice|   3|\n",
      "|        IT|  5| 72000|  5|  David|   1|\n",
      "|        IT|  4| 70000|  4|  Emily|   2|\n",
      "|        IT|  6| 68000|  6|  Sarah|   3|\n",
      "|     Sales|  8| 78000|  8|   Lisa|   1|\n",
      "|     Sales|  9| 77000|  9|William|   2|\n",
      "|     Sales|  7| 75000|  7|Michael|   3|\n",
      "+----------+---+------+---+-------+----+\n",
      "\n"
     ]
    }
   ],
   "source": [
    "widow = Window.partitionBy(\"department\").orderBy(desc(\"salary\"))\n",
    "employee_sal = spark.sql(\"Select * from salaries left join employees on salaries.id=employees.id\")\n",
    "employee_sal.show()\n",
    "employee_sal.withColumn(\"rank\",rank().over(widow)).show()"
   ]
  }
 ],
 "metadata": {
  "kernelspec": {
   "display_name": "Python 3 (ipykernel)",
   "language": "python",
   "name": "python3"
  },
  "language_info": {
   "codemirror_mode": {
    "name": "ipython",
    "version": 3
   },
   "file_extension": ".py",
   "mimetype": "text/x-python",
   "name": "python",
   "nbconvert_exporter": "python",
   "pygments_lexer": "ipython3",
   "version": "3.11.0"
  }
 },
 "nbformat": 4,
 "nbformat_minor": 5
}
