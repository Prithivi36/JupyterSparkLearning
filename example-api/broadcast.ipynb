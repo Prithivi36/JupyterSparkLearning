{
 "cells": [
  {
   "cell_type": "code",
   "execution_count": 2,
   "id": "5ea324e0-904f-46a2-828c-4db1e9af27b7",
   "metadata": {},
   "outputs": [],
   "source": [
    "import os\n",
    "os.environ['SPARK_HOME'] = \"C:/spark\"\n",
    "os.environ['PYSPARK_DRIVER_PYTHON'] = 'jupyter'\n",
    "os.environ['PYSPARK_DRIVER_PYTHON_OPTS'] = 'lab'\n",
    "os.environ['PYSPARK_PYTHON'] = 'python'\n",
    "from pyspark.sql import SparkSession\n",
    "from pyspark.sql.types import *\n",
    "from pyspark.sql.window import *\n",
    "from pyspark.sql.functions import *\n",
    "spark = SparkSession.builder.appName(\"spark-app\").getOrCreate()\n"
   ]
  },
  {
   "cell_type": "code",
   "execution_count": 9,
   "id": "78daa28b-2ab2-4825-8626-33a8ca653538",
   "metadata": {},
   "outputs": [],
   "source": [
    "broadcast_dict = {\"apple\": 1, \"banana\": 2, \"cherry\": 3}\n",
    "broadcast_var = spark.sparkContext.broadcast(broadcast_dict)\n",
    "\n",
    "rdd = spark.sparkContext.parallelize([\"apple\", \"banana\", \"cherry\", \"apple\", \"banana\"])\n"
   ]
  },
  {
   "cell_type": "code",
   "execution_count": 11,
   "id": "0c53b861-37cd-470b-9647-d982c766b2f4",
   "metadata": {},
   "outputs": [
    {
     "data": {
      "text/plain": [
       "[1, 2, 3, 1, 2]"
      ]
     },
     "execution_count": 11,
     "metadata": {},
     "output_type": "execute_result"
    }
   ],
   "source": [
    "def lookup_fruit(fruit):\n",
    "    return broadcast_var.value.get(fruit, 0)\n",
    "\n",
    "result = rdd.map(lookup_fruit)\n",
    "\n",
    "result.collect()"
   ]
  }
 ],
 "metadata": {
  "kernelspec": {
   "display_name": "Python 3 (ipykernel)",
   "language": "python",
   "name": "python3"
  },
  "language_info": {
   "codemirror_mode": {
    "name": "ipython",
    "version": 3
   },
   "file_extension": ".py",
   "mimetype": "text/x-python",
   "name": "python",
   "nbconvert_exporter": "python",
   "pygments_lexer": "ipython3",
   "version": "3.11.0"
  }
 },
 "nbformat": 4,
 "nbformat_minor": 5
}
