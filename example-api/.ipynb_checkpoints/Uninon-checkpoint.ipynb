{
 "cells": [
  {
   "cell_type": "code",
   "execution_count": 1,
   "id": "8c576b8e-1657-4fd3-b74f-4a39b2154d2d",
   "metadata": {},
   "outputs": [],
   "source": [
    "import os\n",
    "os.environ['SPARK_HOME'] = \"C:/spark\"\n",
    "os.environ['PYSPARK_DRIVER_PYTHON'] = 'jupyter'\n",
    "os.environ['PYSPARK_DRIVER_PYTHON_OPTS'] = 'lab'\n",
    "os.environ['PYSPARK_PYTHON'] = 'python'\n",
    "from pyspark.sql import SparkSession\n",
    "from pyspark.sql.types import *\n",
    "from pyspark.sql.window import *\n",
    "from pyspark.sql.functions import *"
   ]
  },
  {
   "cell_type": "code",
   "execution_count": 2,
   "id": "4d2241ee-c30c-4c69-a899-1ef2ff7acc97",
   "metadata": {},
   "outputs": [
    {
     "name": "stdout",
     "output_type": "stream",
     "text": [
      "UNION ALL Result:\n",
      "+---------+---+\n",
      "|     Name|Age|\n",
      "+---------+---+\n",
      "|    Alice| 34|\n",
      "|      Bob| 45|\n",
      "|    Alice| 34|\n",
      "|    Alice| 34|\n",
      "|Catherine| 29|\n",
      "|    David| 40|\n",
      "+---------+---+\n",
      "\n",
      "UNION Result (Distinct Rows Only):\n",
      "+---------+---+\n",
      "|     Name|Age|\n",
      "+---------+---+\n",
      "|    Alice| 34|\n",
      "|      Bob| 45|\n",
      "|Catherine| 29|\n",
      "|    David| 40|\n",
      "+---------+---+\n",
      "\n"
     ]
    }
   ],
   "source": [
    "\n",
    "spark = SparkSession.builder.appName(\"UnionExample\").getOrCreate()\n",
    "\n",
    "data1 = [(\"Alice\", 34), (\"Bob\", 45), (\"Alice\", 34)]\n",
    "data2 = [(\"Alice\", 34), (\"Catherine\", 29), (\"David\", 40)]\n",
    "\n",
    "columns = [\"Name\", \"Age\"]\n",
    "\n",
    "df1 = spark.createDataFrame(data1, columns)\n",
    "df2 = spark.createDataFrame(data2, columns)\n",
    "\n",
    "union_all_df = df1.union(df2)\n",
    "print(\"UNION ALL Result:\")\n",
    "union_all_df.show()\n",
    "union_distinct_df = df1.union(df2).distinct()\n",
    "print(\"UNION Result (Distinct Rows Only):\")\n",
    "union_distinct_df.show()\n",
    "spark.stop()\n"
   ]
  }
 ],
 "metadata": {
  "kernelspec": {
   "display_name": "Python 3 (ipykernel)",
   "language": "python",
   "name": "python3"
  },
  "language_info": {
   "codemirror_mode": {
    "name": "ipython",
    "version": 3
   },
   "file_extension": ".py",
   "mimetype": "text/x-python",
   "name": "python",
   "nbconvert_exporter": "python",
   "pygments_lexer": "ipython3",
   "version": "3.11.0"
  }
 },
 "nbformat": 4,
 "nbformat_minor": 5
}
