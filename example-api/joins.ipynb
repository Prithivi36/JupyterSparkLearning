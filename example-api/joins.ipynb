{
 "cells": [
  {
   "cell_type": "code",
   "execution_count": 1,
   "id": "ae357894-aa73-4885-ba47-c9feee1f34ff",
   "metadata": {},
   "outputs": [],
   "source": [
    "import os\n",
    "os.environ['SPARK_HOME'] = \"C:/spark\"\n",
    "os.environ['PYSPARK_DRIVER_PYTHON'] = 'jupyter'\n",
    "os.environ['PYSPARK_DRIVER_PYTHON_OPTS'] = 'lab'\n",
    "os.environ['PYSPARK_PYTHON'] = 'python'\n",
    "from pyspark.sql import SparkSession\n",
    "from pyspark.sql.types import *\n",
    "from pyspark.sql.window import *\n",
    "from pyspark.sql.functions import *"
   ]
  },
  {
   "cell_type": "code",
   "execution_count": 2,
   "id": "57e3dc69-d5cf-4a32-bb44-25d46e346faa",
   "metadata": {},
   "outputs": [
    {
     "name": "stdout",
     "output_type": "stream",
     "text": [
      "DataFrame 1:\n",
      "+---------+---+\n",
      "|     Name| ID|\n",
      "+---------+---+\n",
      "|    Alice|  1|\n",
      "|      Bob|  2|\n",
      "|Catherine|  3|\n",
      "+---------+---+\n",
      "\n",
      "DataFrame 2:\n",
      "+-----+---+\n",
      "| Name| ID|\n",
      "+-----+---+\n",
      "|Alice|  1|\n",
      "|David|  4|\n",
      "|  Eve|  5|\n",
      "+-----+---+\n",
      "\n"
     ]
    }
   ],
   "source": [
    "\n",
    "spark = SparkSession.builder.appName(\"JoinExamples\").getOrCreate()\n",
    "\n",
    "data1 = [(\"Alice\", 1), (\"Bob\", 2), (\"Catherine\", 3)]\n",
    "data2 = [(\"Alice\", 1), (\"David\", 4), (\"Eve\", 5)]\n",
    "\n",
    "columns = [\"Name\", \"ID\"]\n",
    "\n",
    "df1 = spark.createDataFrame(data1, columns)\n",
    "df2 = spark.createDataFrame(data2, columns)\n",
    "\n",
    "print(\"DataFrame 1:\")\n",
    "df1.show()\n",
    "\n",
    "print(\"DataFrame 2:\")\n",
    "df2.show()\n"
   ]
  },
  {
   "cell_type": "code",
   "execution_count": 4,
   "id": "0b0f13c9-2570-4f69-8901-deb11fe79458",
   "metadata": {},
   "outputs": [
    {
     "name": "stdout",
     "output_type": "stream",
     "text": [
      "Inner Join Result:\n",
      "+---+-----+-----+\n",
      "| ID| Name| Name|\n",
      "+---+-----+-----+\n",
      "|  1|Alice|Alice|\n",
      "+---+-----+-----+\n",
      "\n"
     ]
    }
   ],
   "source": [
    "inner_join_df = df1.join(df2, on=\"ID\", how=\"inner\")\n",
    "print(\"Inner Join Result:\")\n",
    "inner_join_df.show()\n"
   ]
  },
  {
   "cell_type": "code",
   "execution_count": 5,
   "id": "dc073b54-fa12-4fa4-9e95-6ad395b76b49",
   "metadata": {},
   "outputs": [
    {
     "name": "stdout",
     "output_type": "stream",
     "text": [
      "Left Join Result:\n",
      "+---+---------+-----+\n",
      "| ID|     Name| Name|\n",
      "+---+---------+-----+\n",
      "|  1|    Alice|Alice|\n",
      "|  2|      Bob| NULL|\n",
      "|  3|Catherine| NULL|\n",
      "+---+---------+-----+\n",
      "\n"
     ]
    }
   ],
   "source": [
    "left_join_df = df1.join(df2, on=\"ID\", how=\"left\")\n",
    "print(\"Left Join Result:\")\n",
    "left_join_df.show()\n"
   ]
  },
  {
   "cell_type": "code",
   "execution_count": 6,
   "id": "85e4fe55-be13-4546-8e3b-7ff81a106154",
   "metadata": {},
   "outputs": [
    {
     "name": "stdout",
     "output_type": "stream",
     "text": [
      "Right Join Result:\n",
      "+---+-----+-----+\n",
      "| ID| Name| Name|\n",
      "+---+-----+-----+\n",
      "|  1|Alice|Alice|\n",
      "|  4| NULL|David|\n",
      "|  5| NULL|  Eve|\n",
      "+---+-----+-----+\n",
      "\n"
     ]
    }
   ],
   "source": [
    "right_join_df = df1.join(df2, on=\"ID\", how=\"right\")\n",
    "print(\"Right Join Result:\")\n",
    "right_join_df.show()\n"
   ]
  },
  {
   "cell_type": "code",
   "execution_count": 7,
   "id": "c2b3607c-26a8-4379-b15e-21793e114eb1",
   "metadata": {},
   "outputs": [
    {
     "name": "stdout",
     "output_type": "stream",
     "text": [
      "Full Join Result:\n",
      "+---+---------+-----+\n",
      "| ID|     Name| Name|\n",
      "+---+---------+-----+\n",
      "|  1|    Alice|Alice|\n",
      "|  2|      Bob| NULL|\n",
      "|  3|Catherine| NULL|\n",
      "|  4|     NULL|David|\n",
      "|  5|     NULL|  Eve|\n",
      "+---+---------+-----+\n",
      "\n"
     ]
    }
   ],
   "source": [
    "full_join_df = df1.join(df2, on=\"ID\", how=\"full\")\n",
    "print(\"Full Join Result:\")\n",
    "full_join_df.show()\n"
   ]
  },
  {
   "cell_type": "code",
   "execution_count": null,
   "id": "0d781750-c4e9-4c16-96ba-9a36b9a21e58",
   "metadata": {},
   "outputs": [],
   "source": []
  }
 ],
 "metadata": {
  "kernelspec": {
   "display_name": "Python 3 (ipykernel)",
   "language": "python",
   "name": "python3"
  },
  "language_info": {
   "codemirror_mode": {
    "name": "ipython",
    "version": 3
   },
   "file_extension": ".py",
   "mimetype": "text/x-python",
   "name": "python",
   "nbconvert_exporter": "python",
   "pygments_lexer": "ipython3",
   "version": "3.11.0"
  }
 },
 "nbformat": 4,
 "nbformat_minor": 5
}
