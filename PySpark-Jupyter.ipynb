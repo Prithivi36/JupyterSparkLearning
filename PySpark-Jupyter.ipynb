{
 "cells": [
  {
   "cell_type": "code",
   "execution_count": 1,
   "id": "20988cd0-640d-4c9b-b26b-7a64683c6688",
   "metadata": {},
   "outputs": [],
   "source": [
    "import os\n",
    "os.environ['SPARK_HOME'] = \"C:/spark\"\n",
    "os.environ['PYSPARK_DRIVER_PYTHON'] = 'jupyter'\n",
    "os.environ['PYSPARK_DRIVER_PYTHON_OPTS'] = 'lab'\n",
    "os.environ['PYSPARK_PYTHON'] = 'python'\n"
   ]
  },
  {
   "cell_type": "code",
   "execution_count": 2,
   "id": "d440f68a-0740-4c48-8ff8-8e5c3553cbf6",
   "metadata": {},
   "outputs": [],
   "source": [
    "from pyspark.sql import SparkSession\n",
    "\n",
    "spark = SparkSession.builder.appName(\"Hero-app\").getOrCreate()\n"
   ]
  },
  {
   "cell_type": "code",
   "execution_count": 3,
   "id": "b391ede4-e194-4abc-9c2c-d2c0a3eaa51c",
   "metadata": {},
   "outputs": [
    {
     "name": "stdout",
     "output_type": "stream",
     "text": [
      "+---------+---+\n",
      "|     Name|Age|\n",
      "+---------+---+\n",
      "| Meganath| 11|\n",
      "|    Gagan| 18|\n",
      "|Spiderman| 25|\n",
      "| Meganath| 12|\n",
      "+---------+---+\n",
      "\n"
     ]
    }
   ],
   "source": [
    "dfInp = [(\"Meganath\",11),(\"Gagan\",18),(\"Spiderman\",25),(\"Meganath\",12)]\n",
    "df=spark.createDataFrame(dfInp,[\"Name\",\"Age\"])\n",
    "df.show()"
   ]
  },
  {
   "cell_type": "code",
   "execution_count": null,
   "id": "b2595531-a0b4-4a84-8497-464f27496395",
   "metadata": {},
   "outputs": [],
   "source": []
  }
 ],
 "metadata": {
  "kernelspec": {
   "display_name": "Python 3 (ipykernel)",
   "language": "python",
   "name": "python3"
  },
  "language_info": {
   "codemirror_mode": {
    "name": "ipython",
    "version": 3
   },
   "file_extension": ".py",
   "mimetype": "text/x-python",
   "name": "python",
   "nbconvert_exporter": "python",
   "pygments_lexer": "ipython3",
   "version": "3.11.0"
  }
 },
 "nbformat": 4,
 "nbformat_minor": 5
}
