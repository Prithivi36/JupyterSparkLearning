{
 "cells": [
  {
   "cell_type": "code",
   "execution_count": 2,
   "id": "af0d93bc-057f-407d-96e0-c1b371fcb674",
   "metadata": {},
   "outputs": [],
   "source": [
    "import os\n",
    "os.environ['SPARK_HOME'] = \"C:/spark\"\n",
    "os.environ['PYSPARK_DRIVER_PYTHON'] = 'jupyter'\n",
    "os.environ['PYSPARK_DRIVER_PYTHON_OPTS'] = 'lab'\n",
    "os.environ['PYSPARK_PYTHON'] = 'python'"
   ]
  },
  {
   "cell_type": "code",
   "execution_count": 57,
   "id": "fde497ea-944f-4b6c-a44a-904306d6efb7",
   "metadata": {},
   "outputs": [],
   "source": [
    "from pyspark.sql import SparkSession\n",
    "from pyspark.sql.types import *\n",
    "from pyspark.sql.window import *\n",
    "from pyspark.sql.functions import *"
   ]
  },
  {
   "cell_type": "code",
   "execution_count": 30,
   "id": "9883136d-e77d-4f63-bada-95e65e3bf8c0",
   "metadata": {},
   "outputs": [
    {
     "data": {
      "text/html": [
       "\n",
       "            <div>\n",
       "                <p><b>SparkSession - in-memory</b></p>\n",
       "                \n",
       "        <div>\n",
       "            <p><b>SparkContext</b></p>\n",
       "\n",
       "            <p><a href=\"http://LAPTOP-TD17TFO6.mshome.net:4040\">Spark UI</a></p>\n",
       "\n",
       "            <dl>\n",
       "              <dt>Version</dt>\n",
       "                <dd><code>v3.5.3</code></dd>\n",
       "              <dt>Master</dt>\n",
       "                <dd><code>local[*]</code></dd>\n",
       "              <dt>AppName</dt>\n",
       "                <dd><code>aggregate-app</code></dd>\n",
       "            </dl>\n",
       "        </div>\n",
       "        \n",
       "            </div>\n",
       "        "
      ],
      "text/plain": [
       "<pyspark.sql.session.SparkSession at 0x16ccf5c7ed0>"
      ]
     },
     "execution_count": 30,
     "metadata": {},
     "output_type": "execute_result"
    }
   ],
   "source": [
    "spark = SparkSession.builder.appName(\"aggregate-app\")\\\n",
    ".getOrCreate()\n",
    "spark"
   ]
  },
  {
   "cell_type": "code",
   "execution_count": 40,
   "id": "c8306550-3b31-4a67-a64f-a62046c8db92",
   "metadata": {},
   "outputs": [],
   "source": [
    "data = [\n",
    "    (\"T1001\", \"U001\", \"P001\", \"Electronics\", 199.99, \"2024-01-15\"),\n",
    "    (\"T1002\", \"U002\", \"P002\", \"Clothing\", 49.99, \"2024-01-16\"),\n",
    "    (\"T1003\", \"U001\", \"P003\", \"Books\", 12.99, \"2024-01-17\"),\n",
    "    (\"T1004\", \"U003\", \"P004\", \"Electronics\", 299.99, \"2024-01-18\"),\n",
    "    (\"T1005\", \"U004\", \"P005\", \"Groceries\", 15.75, \"2024-01-19\"),\n",
    "    (\"T1006\", \"U002\", \"P006\", \"Clothing\", 89.99, \"2024-01-20\"),\n",
    "    (\"T1007\", \"U005\", \"P007\", \"Furniture\", 450.00, \"2024-01-21\"),\n",
    "    (\"T1008\", \"U001\", \"P008\", \"Electronics\", 199.99, \"2024-01-22\"),\n",
    "    (\"T1009\", \"U003\", \"P009\", \"Books\", 24.99, \"2024-01-23\"),\n",
    "    (\"T1010\", \"U004\", \"P010\", \"Groceries\", 20.50, \"2024-01-24\")\n",
    "]"
   ]
  },
  {
   "cell_type": "code",
   "execution_count": 42,
   "id": "daab2205-eaf2-4738-8423-3562f992e062",
   "metadata": {},
   "outputs": [
    {
     "name": "stdout",
     "output_type": "stream",
     "text": [
      "+--------------+-------+----------+-----------+------+----------+\n",
      "|transaction_id|user_id|product_id|   category|amount|      date|\n",
      "+--------------+-------+----------+-----------+------+----------+\n",
      "|         T1001|   U001|      P001|Electronics|199.99|2024-01-15|\n",
      "|         T1002|   U002|      P002|   Clothing| 49.99|2024-01-16|\n",
      "|         T1003|   U001|      P003|      Books| 12.99|2024-01-17|\n",
      "|         T1004|   U003|      P004|Electronics|299.99|2024-01-18|\n",
      "|         T1005|   U004|      P005|  Groceries| 15.75|2024-01-19|\n",
      "|         T1006|   U002|      P006|   Clothing| 89.99|2024-01-20|\n",
      "|         T1007|   U005|      P007|  Furniture| 450.0|2024-01-21|\n",
      "|         T1008|   U001|      P008|Electronics|199.99|2024-01-22|\n",
      "|         T1009|   U003|      P009|      Books| 24.99|2024-01-23|\n",
      "|         T1010|   U004|      P010|  Groceries|  20.5|2024-01-24|\n",
      "+--------------+-------+----------+-----------+------+----------+\n",
      "\n"
     ]
    }
   ],
   "source": [
    "schema = StructType([\n",
    "    StructField(\"transaction_id\", StringType(), True),StructField(\"user_id\", StringType(), True),\n",
    "    StructField(\"product_id\", StringType(), True),StructField(\"category\", StringType(), True),\n",
    "    StructField(\"amount\", DoubleType(), True),StructField(\"date\", StringType(), True)\n",
    "])\n",
    "# dataframe = spark.createDataFrame(data,[\"transaction_id\",\"user_id\",\"product_id\",\"category\",\"amount\",\"date\"])\n",
    "df = spark.createDataFrame(data, schema)\n",
    "\n",
    "df.show()"
   ]
  },
  {
   "cell_type": "code",
   "execution_count": 81,
   "id": "5184cefa-8df8-4a96-a80b-662473e5df01",
   "metadata": {},
   "outputs": [
    {
     "name": "stdout",
     "output_type": "stream",
     "text": [
      "+-------+-----------+-------------------+\n",
      "|user_id|total_spent|average_transaction|\n",
      "+-------+-----------+-------------------+\n",
      "|   U001|     412.97| 137.65666666666667|\n",
      "|   U002|     139.98|              69.99|\n",
      "|   U003|     324.98|             162.49|\n",
      "|   U004|      36.25|             18.125|\n",
      "|   U005|      450.0|              450.0|\n",
      "+-------+-----------+-------------------+\n",
      "\n"
     ]
    }
   ],
   "source": [
    "amounts = df.groupBy(\"user_id\").agg(\n",
    "    sum(\"amount\").alias(\"total_spent\"),\n",
    "    avg(\"amount\").alias(\"average_transaction\"))\n",
    "amounts.show()"
   ]
  },
  {
   "cell_type": "code",
   "execution_count": 90,
   "id": "de816922-e4fc-48f3-ab5d-bf9a4077e5ac",
   "metadata": {},
   "outputs": [
    {
     "name": "stdout",
     "output_type": "stream",
     "text": [
      "+-------+-----------+\n",
      "|user_id|   category|\n",
      "+-------+-----------+\n",
      "|   U001|Electronics|\n",
      "|   U002|   Clothing|\n",
      "|   U003|Electronics|\n",
      "|   U004|  Groceries|\n",
      "|   U005|  Furniture|\n",
      "+-------+-----------+\n",
      "\n"
     ]
    }
   ],
   "source": [
    "window= Window.partitionBy(\"user_id\").orderBy(desc(\"count\"))\n",
    "user_fav = df.groupBy(\"user_id\", \"category\").count().withColumn(\"rank\", row_number().over(window)).select(\"user_id\", \"category\")\\\n",
    ".filter(col(\"rank\")==1)\n",
    "user_fav.show()"
   ]
  },
  {
   "cell_type": "code",
   "execution_count": 82,
   "id": "aec60f01-818a-4e67-8ddc-d57081457670",
   "metadata": {},
   "outputs": [
    {
     "name": "stdout",
     "output_type": "stream",
     "text": [
      "+-------+-----------+-------------------+-----------+\n",
      "|user_id|total_spent|average_transaction|   category|\n",
      "+-------+-----------+-------------------+-----------+\n",
      "|   U001|     412.97| 137.65666666666667|Electronics|\n",
      "|   U002|     139.98|              69.99|   Clothing|\n",
      "|   U003|     324.98|             162.49|Electronics|\n",
      "|   U004|      36.25|             18.125|  Groceries|\n",
      "|   U005|      450.0|              450.0|  Furniture|\n",
      "+-------+-----------+-------------------+-----------+\n",
      "\n"
     ]
    }
   ],
   "source": [
    "result = amounts.join(user_fav,on=\"user_id\",how=\"left\")\n",
    "result.show()"
   ]
  },
  {
   "cell_type": "code",
   "execution_count": null,
   "id": "d52f63e5-98eb-4f76-8b42-1cebe849ba4f",
   "metadata": {},
   "outputs": [],
   "source": []
  }
 ],
 "metadata": {
  "kernelspec": {
   "display_name": "Python 3 (ipykernel)",
   "language": "python",
   "name": "python3"
  },
  "language_info": {
   "codemirror_mode": {
    "name": "ipython",
    "version": 3
   },
   "file_extension": ".py",
   "mimetype": "text/x-python",
   "name": "python",
   "nbconvert_exporter": "python",
   "pygments_lexer": "ipython3",
   "version": "3.11.0"
  }
 },
 "nbformat": 4,
 "nbformat_minor": 5
}
