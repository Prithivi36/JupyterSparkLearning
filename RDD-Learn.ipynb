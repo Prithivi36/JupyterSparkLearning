{
 "cells": [
  {
   "cell_type": "code",
   "execution_count": 1,
   "id": "3826d0d4-af95-41ac-ad8f-5f805c5139ec",
   "metadata": {},
   "outputs": [],
   "source": [
    "import os\n",
    "os.environ['SPARK_HOME'] = \"C:/spark\"\n",
    "os.environ['PYSPARK_DRIVER_PYTHON'] = 'jupyter'\n",
    "os.environ['PYSPARK_DRIVER_PYTHON_OPTS'] = 'lab'\n",
    "os.environ['PYSPARK_PYTHON'] = 'python'\n"
   ]
  },
  {
   "cell_type": "code",
   "execution_count": 2,
   "id": "03021803-3874-45a0-8731-20727ecd94b4",
   "metadata": {},
   "outputs": [
    {
     "data": {
      "text/html": [
       "\n",
       "            <div>\n",
       "                <p><b>SparkSession - in-memory</b></p>\n",
       "                \n",
       "        <div>\n",
       "            <p><b>SparkContext</b></p>\n",
       "\n",
       "            <p><a href=\"http://LAPTOP-TD17TFO6.mshome.net:4040\">Spark UI</a></p>\n",
       "\n",
       "            <dl>\n",
       "              <dt>Version</dt>\n",
       "                <dd><code>v3.5.3</code></dd>\n",
       "              <dt>Master</dt>\n",
       "                <dd><code>local[*]</code></dd>\n",
       "              <dt>AppName</dt>\n",
       "                <dd><code>this-Rdd</code></dd>\n",
       "            </dl>\n",
       "        </div>\n",
       "        \n",
       "            </div>\n",
       "        "
      ],
      "text/plain": [
       "<pyspark.sql.session.SparkSession at 0x216b17d3490>"
      ]
     },
     "execution_count": 2,
     "metadata": {},
     "output_type": "execute_result"
    }
   ],
   "source": [
    "from pyspark.sql import SparkSession\n",
    "\n",
    "spark = SparkSession.builder.appName(\"this-Rdd\").getOrCreate();\n",
    "\n",
    "spark\n"
   ]
  },
  {
   "cell_type": "code",
   "execution_count": 4,
   "id": "c970d22d-16d3-48c4-aec1-2336031344ea",
   "metadata": {},
   "outputs": [
    {
     "data": {
      "text/plain": [
       "[('Meganath', 11), ('Gagan', 18), ('Spiderman', 25), ('Meganath', 12)]"
      ]
     },
     "execution_count": 4,
     "metadata": {},
     "output_type": "execute_result"
    }
   ],
   "source": [
    "guys = [(\"Meganath\",11),(\"Gagan\",18),(\"Spiderman\",25),(\"Meganath\",12)]\n",
    "rdd=spark.sparkContext.parallelize(guys)\n",
    "rdd.collect()"
   ]
  },
  {
   "cell_type": "code",
   "execution_count": 5,
   "id": "d790f7d3-7007-4821-9f2b-f8d310d0e32a",
   "metadata": {},
   "outputs": [
    {
     "data": {
      "text/plain": [
       "[('Gagan', 18), ('Spiderman', 25)]"
      ]
     },
     "execution_count": 5,
     "metadata": {},
     "output_type": "execute_result"
    }
   ],
   "source": [
    "above_17 = rdd.filter(lambda x: x[1] > 17)\n",
    "above_17.collect()"
   ]
  },
  {
   "cell_type": "code",
   "execution_count": 6,
   "id": "2affe46c-8dc6-41e6-8311-e95ed2210150",
   "metadata": {},
   "outputs": [
    {
     "data": {
      "text/plain": [
       "[('Meganath', 11), ('Gagan', 18)]"
      ]
     },
     "execution_count": 6,
     "metadata": {},
     "output_type": "execute_result"
    }
   ],
   "source": [
    "taken = rdd.take(2)\n",
    "taken"
   ]
  },
  {
   "cell_type": "code",
   "execution_count": 7,
   "id": "7c671ee8-97a2-4a72-832c-1161f2d87c8e",
   "metadata": {},
   "outputs": [
    {
     "data": {
      "text/plain": [
       "('Meganath', 11)"
      ]
     },
     "execution_count": 7,
     "metadata": {},
     "output_type": "execute_result"
    }
   ],
   "source": [
    "first = rdd.first()\n",
    "first"
   ]
  },
  {
   "cell_type": "code",
   "execution_count": 10,
   "id": "6b297e9f-88f3-4c21-8f2f-000017819410",
   "metadata": {},
   "outputs": [
    {
     "data": {
      "text/plain": [
       "[('MEGANATH', 11), ('GAGAN', 18), ('SPIDERMAN', 25), ('MEGANATH', 12)]"
      ]
     },
     "execution_count": 10,
     "metadata": {},
     "output_type": "execute_result"
    }
   ],
   "source": [
    "mapped = rdd.map(lambda x: (x[0].upper(), x[1]))\n",
    "mapped.collect()"
   ]
  },
  {
   "cell_type": "code",
   "execution_count": 11,
   "id": "b1bffa66-ce7a-4d52-b515-ac68d6fa7c3e",
   "metadata": {},
   "outputs": [
    {
     "data": {
      "text/plain": [
       "[('Meganath', 23), ('Gagan', 18), ('Spiderman', 25)]"
      ]
     },
     "execution_count": 11,
     "metadata": {},
     "output_type": "execute_result"
    }
   ],
   "source": [
    "red = rdd.reduceByKey(lambda x, y: x + y)\n",
    "red.collect()"
   ]
  },
  {
   "cell_type": "code",
   "execution_count": null,
   "id": "7f498b7d-13b1-41a7-85c2-7e4f646bcfaf",
   "metadata": {},
   "outputs": [],
   "source": [
    "spark.stop()"
   ]
  }
 ],
 "metadata": {
  "kernelspec": {
   "display_name": "Python 3 (ipykernel)",
   "language": "python",
   "name": "python3"
  },
  "language_info": {
   "codemirror_mode": {
    "name": "ipython",
    "version": 3
   },
   "file_extension": ".py",
   "mimetype": "text/x-python",
   "name": "python",
   "nbconvert_exporter": "python",
   "pygments_lexer": "ipython3",
   "version": "3.11.0"
  }
 },
 "nbformat": 4,
 "nbformat_minor": 5
}
