{
 "cells": [
  {
   "cell_type": "code",
   "execution_count": 2,
   "id": "58b84998-f22c-45a3-a828-2dd486bde8ed",
   "metadata": {},
   "outputs": [],
   "source": [
    "import os\n",
    "os.environ['SPARK_HOME'] = \"C:/spark\"\n",
    "os.environ['PYSPARK_DRIVER_PYTHON'] = 'jupyter'\n",
    "os.environ['PYSPARK_DRIVER_PYTHON_OPTS'] = 'lab'\n",
    "os.environ['PYSPARK_PYTHON'] = 'python'\n",
    "from pyspark.sql import SparkSession\n",
    "from pyspark.sql.types import *\n",
    "from pyspark.sql.window import *\n",
    "from pyspark.sql.functions import *"
   ]
  },
  {
   "cell_type": "code",
   "execution_count": 4,
   "id": "18301e4e-88a9-4ce5-b10d-3d375ccabe02",
   "metadata": {},
   "outputs": [
    {
     "data": {
      "text/html": [
       "\n",
       "            <div>\n",
       "                <p><b>SparkSession - in-memory</b></p>\n",
       "                \n",
       "        <div>\n",
       "            <p><b>SparkContext</b></p>\n",
       "\n",
       "            <p><a href=\"http://LAPTOP-TD17TFO6.mshome.net:4041\">Spark UI</a></p>\n",
       "\n",
       "            <dl>\n",
       "              <dt>Version</dt>\n",
       "                <dd><code>v3.5.3</code></dd>\n",
       "              <dt>Master</dt>\n",
       "                <dd><code>local[*]</code></dd>\n",
       "              <dt>AppName</dt>\n",
       "                <dd><code>aggregate-app</code></dd>\n",
       "            </dl>\n",
       "        </div>\n",
       "        \n",
       "            </div>\n",
       "        "
      ],
      "text/plain": [
       "<pyspark.sql.session.SparkSession at 0x1ccf6921850>"
      ]
     },
     "execution_count": 4,
     "metadata": {},
     "output_type": "execute_result"
    }
   ],
   "source": [
    "spark = SparkSession.builder.appName(\"aggregate-app\")\\\n",
    ".getOrCreate()\n",
    "spark"
   ]
  },
  {
   "cell_type": "code",
   "execution_count": 22,
   "id": "5cbc4d4e-ffc2-4a6b-bd02-f49843a6f0d7",
   "metadata": {},
   "outputs": [
    {
     "name": "stdout",
     "output_type": "stream",
     "text": [
      "+-----------+----------------+------+\n",
      "|customer_id|transaction_date|amount|\n",
      "+-----------+----------------+------+\n",
      "|          1|      2024-11-01| 100.0|\n",
      "|          1|      2024-11-02| 150.0|\n",
      "|          1|      2024-11-03| 200.0|\n",
      "|          1|      2024-11-05| 130.0|\n",
      "|          1|      2024-11-07|  80.0|\n",
      "|          1|      2024-11-09|  70.0|\n",
      "|          1|      2024-11-10|  60.0|\n",
      "|          1|      2024-11-11|  90.0|\n",
      "|          1|      2024-11-13| 110.0|\n",
      "|          2|      2024-11-01|  50.0|\n",
      "|          2|      2024-11-02|  60.0|\n",
      "|          2|      2024-11-04|  40.0|\n",
      "|          2|      2024-11-06|  90.0|\n",
      "|          2|      2024-11-08| 100.0|\n",
      "|          2|      2024-11-10| 110.0|\n",
      "|          2|      2024-11-11|  70.0|\n",
      "|          2|      2024-11-13| 130.0|\n",
      "|          3|      2024-11-02| 300.0|\n",
      "|          3|      2024-11-04| 200.0|\n",
      "|          3|      2024-11-06| 400.0|\n",
      "+-----------+----------------+------+\n",
      "only showing top 20 rows\n",
      "\n"
     ]
    }
   ],
   "source": [
    "data = [\n",
    "    (1, '2024-11-01', 100.0), (1, '2024-11-02', 150.0), (1, '2024-11-03', 200.0),\n",
    "    (1, '2024-11-05', 130.0), (1, '2024-11-07', 80.0), (1, '2024-11-09', 70.0),\n",
    "    (1, '2024-11-10', 60.0), (1, '2024-11-11', 90.0), (1, '2024-11-13', 110.0),\n",
    "    (2, '2024-11-01', 50.0),  (2, '2024-11-02', 60.0),  (2, '2024-11-04', 40.0),\n",
    "    (2, '2024-11-06', 90.0),  (2, '2024-11-08', 100.0), (2, '2024-11-10', 110.0),\n",
    "    (2, '2024-11-11', 70.0),  (2, '2024-11-13', 130.0), (3, '2024-11-02', 300.0),\n",
    "    (3, '2024-11-04', 200.0), (3, '2024-11-06', 400.0), (3, '2024-11-08', 150.0),\n",
    "    (3, '2024-11-10', 250.0), (3, '2024-11-11', 200.0), (3, '2024-11-13', 100.0)\n",
    "]\n",
    "columns = ['customer_id', 'transaction_date', 'amount']\n",
    "\n",
    "transactions = spark.createDataFrame(data, columns)\n",
    "transactions = transactions.withColumn('transaction_date', col('transaction_date').cast('date'))\n",
    "\n",
    "transactions.show()"
   ]
  },
  {
   "cell_type": "code",
   "execution_count": 23,
   "id": "054809dd-c5f5-4160-b48c-cc9126328f49",
   "metadata": {},
   "outputs": [
    {
     "name": "stdout",
     "output_type": "stream",
     "text": [
      "+----------------+---------------+\n",
      "|transaction_date|cummulative_sum|\n",
      "+----------------+---------------+\n",
      "|      2024-11-02|          510.0|\n",
      "|      2024-11-01|          150.0|\n",
      "|      2024-11-05|          130.0|\n",
      "|      2024-11-03|          200.0|\n",
      "|      2024-11-07|           80.0|\n",
      "|      2024-11-09|           70.0|\n",
      "|      2024-11-11|          360.0|\n",
      "|      2024-11-10|          420.0|\n",
      "|      2024-11-13|          340.0|\n",
      "|      2024-11-04|          240.0|\n",
      "|      2024-11-06|          490.0|\n",
      "|      2024-11-08|          250.0|\n",
      "+----------------+---------------+\n",
      "\n"
     ]
    }
   ],
   "source": [
    "date_sum=transactions.groupBy('transaction_date').agg(sum(\"amount\").alias(\"cummulative_sum\"))\n",
    "date_sum.show()"
   ]
  },
  {
   "cell_type": "code",
   "execution_count": 29,
   "id": "716eeb19-2060-4664-94b8-503ac782a961",
   "metadata": {},
   "outputs": [
    {
     "name": "stdout",
     "output_type": "stream",
     "text": [
      "+-----------+----------------+------+-----------------+------------------+\n",
      "|customer_id|transaction_date|amount|cumulative_amount|rolling_avg_amount|\n",
      "+-----------+----------------+------+-----------------+------------------+\n",
      "|          1|      2024-11-01| 100.0|            100.0|             100.0|\n",
      "|          1|      2024-11-02| 150.0|            250.0|             125.0|\n",
      "|          1|      2024-11-03| 200.0|            450.0|             150.0|\n",
      "|          1|      2024-11-05| 130.0|            580.0|             145.0|\n",
      "|          1|      2024-11-07|  80.0|            660.0|             132.0|\n",
      "|          1|      2024-11-09|  70.0|            730.0|121.66666666666667|\n",
      "|          1|      2024-11-10|  60.0|            790.0|112.85714285714286|\n",
      "|          1|      2024-11-11|  90.0|            880.0|111.42857142857143|\n",
      "|          1|      2024-11-13| 110.0|            990.0|105.71428571428571|\n",
      "|          2|      2024-11-01|  50.0|             50.0|              50.0|\n",
      "|          2|      2024-11-02|  60.0|            110.0|              55.0|\n",
      "|          2|      2024-11-04|  40.0|            150.0|              50.0|\n",
      "|          2|      2024-11-06|  90.0|            240.0|              60.0|\n",
      "|          2|      2024-11-08| 100.0|            340.0|              68.0|\n",
      "|          2|      2024-11-10| 110.0|            450.0|              75.0|\n",
      "|          2|      2024-11-11|  70.0|            520.0| 74.28571428571429|\n",
      "|          2|      2024-11-13| 130.0|            650.0| 85.71428571428571|\n",
      "|          3|      2024-11-02| 300.0|            300.0|             300.0|\n",
      "|          3|      2024-11-04| 200.0|            500.0|             250.0|\n",
      "|          3|      2024-11-06| 400.0|            900.0|             300.0|\n",
      "+-----------+----------------+------+-----------------+------------------+\n",
      "only showing top 20 rows\n",
      "\n"
     ]
    }
   ],
   "source": [
    "window = Window.partitionBy('customer_id').orderBy('transaction_date').rowsBetween(Window.unboundedPreceding, Window.currentRow)\n",
    "roll_7_avg = Window.partitionBy('customer_id').orderBy('transaction_date').rowsBetween(-6, 0)\n",
    "cum_transaction = transactions.withColumn('cumulative_amount', sum('amount').over(window))\n",
    "\n",
    "trans_avg = cum_transaction.withColumn('rolling_avg_amount', avg('amount').over(roll_7_avg))\n",
    "\n",
    "trans_avg.show()"
   ]
  }
 ],
 "metadata": {
  "kernelspec": {
   "display_name": "Python 3 (ipykernel)",
   "language": "python",
   "name": "python3"
  },
  "language_info": {
   "codemirror_mode": {
    "name": "ipython",
    "version": 3
   },
   "file_extension": ".py",
   "mimetype": "text/x-python",
   "name": "python",
   "nbconvert_exporter": "python",
   "pygments_lexer": "ipython3",
   "version": "3.11.0"
  }
 },
 "nbformat": 4,
 "nbformat_minor": 5
}
